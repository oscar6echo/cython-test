{
 "cells": [
  {
   "cell_type": "code",
   "execution_count": 1,
   "metadata": {
    "collapsed": false
   },
   "outputs": [],
   "source": [
    "%load_ext autoreload\n",
    "%autoreload 2\n",
    "\n",
    "import warnings\n",
    "warnings.filterwarnings('ignore', module='matplotlib')\n",
    "\n",
    "import os\n",
    "import numpy as np"
   ]
  },
  {
   "cell_type": "code",
   "execution_count": 2,
   "metadata": {
    "collapsed": false
   },
   "outputs": [
    {
     "data": {
      "text/plain": [
       "'/Users/Olivier/Dropbox/Archives/Software/Python/Cython'"
      ]
     },
     "execution_count": 2,
     "metadata": {},
     "output_type": "execute_result"
    }
   ],
   "source": [
    "%pwd"
   ]
  },
  {
   "cell_type": "code",
   "execution_count": 3,
   "metadata": {
    "collapsed": false
   },
   "outputs": [],
   "source": [
    "from cython_module import create_setup, run_setup"
   ]
  },
  {
   "cell_type": "code",
   "execution_count": 16,
   "metadata": {
    "collapsed": false
   },
   "outputs": [
    {
     "name": "stdout",
     "output_type": "stream",
     "text": [
      "cython_module/setup_test.py created\n",
      "cython_module/setup_primes.py created\n"
     ]
    }
   ],
   "source": [
    "create_setup(source='test')\n",
    "create_setup(source='primes')\n"
   ]
  },
  {
   "cell_type": "code",
   "execution_count": 17,
   "metadata": {
    "collapsed": false,
    "scrolled": true
   },
   "outputs": [
    {
     "name": "stdout",
     "output_type": "stream",
     "text": [
      "compiling test.pyx with cython v0.25.1\n",
      "\n",
      "stdout:\n",
      " Compiling test.pyx because it changed.\n",
      "[1/1] Cythonizing test.pyx\n",
      "running build_ext\n",
      "building 'cython_module.test' extension\n",
      "/usr/bin/clang -Wno-unused-result -Wsign-compare -Wunreachable-code -DNDEBUG -g -fwrapv -O3 -Wall -Wstrict-prototypes -I/Users/Olivier/anaconda3/include -arch x86_64 -I/Users/Olivier/anaconda3/lib/python3.5/site-packages/numpy/core/include -I/Users/Olivier/anaconda3/include/python3.5m -c test.c -o build/temp.macosx-10.6-x86_64-3.5/test.o\n",
      "/usr/bin/clang -bundle -undefined dynamic_lookup -L/Users/Olivier/anaconda3/lib -arch x86_64 build/temp.macosx-10.6-x86_64-3.5/test.o -L/Users/Olivier/anaconda3/lib -o /Users/Olivier/Dropbox/Archives/Software/Python/Cython/cython_module/cython_module/test.cpython-35m-darwin.so\n",
      "\n",
      "\n",
      "stderr:\n",
      " test.c:2240:28: warning: unused function '__Pyx_PyObject_AsString' [-Wunused-function]\n",
      "static CYTHON_INLINE char* __Pyx_PyObject_AsString(PyObject* o) {\n",
      "                           ^\n",
      "test.c:2237:32: warning: unused function '__Pyx_PyUnicode_FromString' [-Wunused-function]\n",
      "static CYTHON_INLINE PyObject* __Pyx_PyUnicode_FromString(const char* c_str) {\n",
      "                               ^\n",
      "test.c:2302:26: warning: unused function '__Pyx_PyObject_IsTrue' [-Wunused-function]\n",
      "static CYTHON_INLINE int __Pyx_PyObject_IsTrue(PyObject* x) {\n",
      "                         ^\n",
      "test.c:2358:33: warning: unused function '__Pyx_PyIndex_AsSsize_t' [-Wunused-function]\n",
      "static CYTHON_INLINE Py_ssize_t __Pyx_PyIndex_AsSsize_t(PyObject* b) {\n",
      "                                ^\n",
      "test.c:2420:33: warning: unused function '__Pyx_PyInt_FromSize_t' [-Wunused-function]\n",
      "static CYTHON_INLINE PyObject * __Pyx_PyInt_FromSize_t(size_t ival) {\n",
      "                                ^\n",
      "test.c:1760:36: warning: unused function '__Pyx_PyInt_From_long' [-Wunused-function]\n",
      "    static CYTHON_INLINE PyObject* __Pyx_PyInt_From_long(long value) {\n",
      "                                   ^\n",
      "test.c:1813:31: warning: function '__Pyx_PyInt_As_long' is not needed and will not be emitted [-Wunneeded-internal-declaration]\n",
      "    static CYTHON_INLINE long __Pyx_PyInt_As_long(PyObject *x) {\n",
      "                              ^\n",
      "test.c:2002:30: warning: function '__Pyx_PyInt_As_int' is not needed and will not be emitted [-Wunneeded-internal-declaration]\n",
      "    static CYTHON_INLINE int __Pyx_PyInt_As_int(PyObject *x) {\n",
      "                             ^\n",
      "8 warnings generated.\n",
      "/Users/Olivier/anaconda3/lib/python3.5/site-packages/Cython/Distutils/old_build_ext.py:30: UserWarning: Cython.Distutils.old_build_ext does not properly handle dependencies and is deprecated.\n",
      "  \"Cython.Distutils.old_build_ext does not properly handle dependencies \"\n",
      "\n",
      "done\n",
      "if no error \"from cython_module import test\"\n"
     ]
    }
   ],
   "source": [
    "run_setup(source='test', verbose=True)\n"
   ]
  },
  {
   "cell_type": "code",
   "execution_count": 18,
   "metadata": {
    "collapsed": false,
    "scrolled": true
   },
   "outputs": [
    {
     "name": "stdout",
     "output_type": "stream",
     "text": [
      "compiling primes.pyx with cython v0.25.1\n",
      "\n",
      "stdout:\n",
      " Compiling primes.pyx because it changed.\n",
      "[1/1] Cythonizing primes.pyx\n",
      "running build_ext\n",
      "building 'cython_module.primes' extension\n",
      "/usr/bin/clang -Wno-unused-result -Wsign-compare -Wunreachable-code -DNDEBUG -g -fwrapv -O3 -Wall -Wstrict-prototypes -I/Users/Olivier/anaconda3/include -arch x86_64 -I/Users/Olivier/anaconda3/lib/python3.5/site-packages/numpy/core/include -I/Users/Olivier/anaconda3/include/python3.5m -c primes.c -o build/temp.macosx-10.6-x86_64-3.5/primes.o\n",
      "/usr/bin/clang -bundle -undefined dynamic_lookup -L/Users/Olivier/anaconda3/lib -arch x86_64 build/temp.macosx-10.6-x86_64-3.5/primes.o -L/Users/Olivier/anaconda3/lib -o /Users/Olivier/Dropbox/Archives/Software/Python/Cython/cython_module/cython_module/primes.cpython-35m-darwin.so\n",
      "\n",
      "\n",
      "stderr:\n",
      " In file included from primes.c:415:\n",
      "In file included from /Users/Olivier/anaconda3/lib/python3.5/site-packages/numpy/core/include/numpy/arrayobject.h:4:\n",
      "In file included from /Users/Olivier/anaconda3/lib/python3.5/site-packages/numpy/core/include/numpy/ndarrayobject.h:18:\n",
      "In file included from /Users/Olivier/anaconda3/lib/python3.5/site-packages/numpy/core/include/numpy/ndarraytypes.h:1777:\n",
      "/Users/Olivier/anaconda3/lib/python3.5/site-packages/numpy/core/include/numpy/npy_1_7_deprecated_api.h:15:2: warning: \"Using deprecated NumPy API, disable it by \"          \"#defining NPY_NO_DEPRECATED_API NPY_1_7_API_VERSION\" [-W#warnings]\n",
      "#warning \"Using deprecated NumPy API, disable it by \" \\\n",
      " ^\n",
      "primes.c:21744:32: warning: unused function '__Pyx_PyUnicode_FromString' [-Wunused-function]\n",
      "static CYTHON_INLINE PyObject* __Pyx_PyUnicode_FromString(const char* c_str) {\n",
      "                               ^\n",
      "primes.c:21927:33: warning: unused function '__Pyx_PyInt_FromSize_t' [-Wunused-function]\n",
      "static CYTHON_INLINE PyObject * __Pyx_PyInt_FromSize_t(size_t ival) {\n",
      "                                ^\n",
      "primes.c:18651:26: warning: unused function '__Pyx_GetBufferAndValidate' [-Wunused-function]\n",
      "static CYTHON_INLINE int __Pyx_GetBufferAndValidate(\n",
      "                         ^\n",
      "primes.c:18685:27: warning: unused function '__Pyx_SafeReleaseBuffer' [-Wunused-function]\n",
      "static CYTHON_INLINE void __Pyx_SafeReleaseBuffer(Py_buffer* info) {\n",
      "                          ^\n",
      "primes.c:18758:1: warning: unused function '__pyx_add_acquisition_count_locked' [-Wunused-function]\n",
      "__pyx_add_acquisition_count_locked(__pyx_atomic_int *acquisition_count,\n",
      "^\n",
      "primes.c:18768:1: warning: unused function '__pyx_sub_acquisition_count_locked' [-Wunused-function]\n",
      "__pyx_sub_acquisition_count_locked(__pyx_atomic_int *acquisition_count,\n",
      "^\n",
      "primes.c:19309:34: warning: unused function '__Pyx_PyBytes_Equals' [-Wunused-function]\n",
      "        static CYTHON_INLINE int __Pyx_PyBytes_Equals(PyObject* s1, PyObject* s2, int equals) {\n",
      "                                 ^\n",
      "primes.c:19731:32: warning: unused function '__Pyx_GetItemInt_List_Fast' [-Wunused-function]\n",
      "static CYTHON_INLINE PyObject *__Pyx_GetItemInt_List_Fast(PyObject *o, Py_ssize_t i,\n",
      "                               ^\n",
      "primes.c:19746:32: warning: unused function '__Pyx_GetItemInt_Tuple_Fast' [-Wunused-function]\n",
      "static CYTHON_INLINE PyObject *__Pyx_GetItemInt_Tuple_Fast(PyObject *o, Py_ssize_t i,\n",
      "                               ^\n",
      "primes.c:20401:30: warning: unused function '__Pyx_c_eq_float' [-Wunused-function]\n",
      "    static CYTHON_INLINE int __Pyx_c_eq_float(__pyx_t_float_complex a, __pyx_t_float_complex b) {\n",
      "                             ^\n",
      "primes.c:20404:48: warning: unused function '__Pyx_c_sum_float' [-Wunused-function]\n",
      "    static CYTHON_INLINE __pyx_t_float_complex __Pyx_c_sum_float(__pyx_t_float_complex a, __pyx_t_float_complex b) {\n",
      "                                               ^\n",
      "primes.c:20410:48: warning: unused function '__Pyx_c_diff_float' [-Wunused-function]\n",
      "    static CYTHON_INLINE __pyx_t_float_complex __Pyx_c_diff_float(__pyx_t_float_complex a, __pyx_t_float_complex b) {\n",
      "                                               ^\n",
      "primes.c:20423:48: warning: unused function '__Pyx_c_quot_float' [-Wunused-function]\n",
      "    static CYTHON_INLINE __pyx_t_float_complex __Pyx_c_quot_float(__pyx_t_float_complex a, __pyx_t_float_complex b) {\n",
      "                                               ^\n",
      "primes.c:20454:48: warning: unused function '__Pyx_c_neg_float' [-Wunused-function]\n",
      "    static CYTHON_INLINE __pyx_t_float_complex __Pyx_c_neg_float(__pyx_t_float_complex a) {\n",
      "                                               ^\n",
      "primes.c:20460:30: warning: unused function '__Pyx_c_is_zero_float' [-Wunused-function]\n",
      "    static CYTHON_INLINE int __Pyx_c_is_zero_float(__pyx_t_float_complex a) {\n",
      "                             ^\n",
      "primes.c:20463:48: warning: unused function '__Pyx_c_conj_float' [-Wunused-function]\n",
      "    static CYTHON_INLINE __pyx_t_float_complex __Pyx_c_conj_float(__pyx_t_float_complex a) {\n",
      "                                               ^\n",
      "primes.c:20477:52: warning: unused function '__Pyx_c_pow_float' [-Wunused-function]\n",
      "        static CYTHON_INLINE __pyx_t_float_complex __Pyx_c_pow_float(__pyx_t_float_complex a, __pyx_t_float_complex b) {\n",
      "                                                   ^\n",
      "primes.c:20548:30: warning: unused function '__Pyx_c_eq_double' [-Wunused-function]\n",
      "    static CYTHON_INLINE int __Pyx_c_eq_double(__pyx_t_double_complex a, __pyx_t_double_complex b) {\n",
      "                             ^\n",
      "primes.c:20551:49: warning: unused function '__Pyx_c_sum_double' [-Wunused-function]\n",
      "    static CYTHON_INLINE __pyx_t_double_complex __Pyx_c_sum_double(__pyx_t_double_complex a, __pyx_t_double_complex b) {\n",
      "                                                ^\n",
      "primes.c:20557:49: warning: unused function '__Pyx_c_diff_double' [-Wunused-function]\n",
      "    static CYTHON_INLINE __pyx_t_double_complex __Pyx_c_diff_double(__pyx_t_double_complex a, __pyx_t_double_complex b) {\n",
      "                                                ^\n",
      "primes.c:20570:49: warning: unused function '__Pyx_c_quot_double' [-Wunused-function]\n",
      "    static CYTHON_INLINE __pyx_t_double_complex __Pyx_c_quot_double(__pyx_t_double_complex a, __pyx_t_double_complex b) {\n",
      "                                                ^\n",
      "primes.c:20601:49: warning: unused function '__Pyx_c_neg_double' [-Wunused-function]\n",
      "    static CYTHON_INLINE __pyx_t_double_complex __Pyx_c_neg_double(__pyx_t_double_complex a) {\n",
      "                                                ^\n",
      "primes.c:20607:30: warning: unused function '__Pyx_c_is_zero_double' [-Wunused-function]\n",
      "    static CYTHON_INLINE int __Pyx_c_is_zero_double(__pyx_t_double_complex a) {\n",
      "                             ^\n",
      "primes.c:20610:49: warning: unused function '__Pyx_c_conj_double' [-Wunused-function]\n",
      "    static CYTHON_INLINE __pyx_t_double_complex __Pyx_c_conj_double(__pyx_t_double_complex a) {\n",
      "                                                ^\n",
      "primes.c:20624:53: warning: unused function '__Pyx_c_pow_double' [-Wunused-function]\n",
      "        static CYTHON_INLINE __pyx_t_double_complex __Pyx_c_pow_double(__pyx_t_double_complex a, __pyx_t_double_complex b) {\n",
      "                                                    ^\n",
      "primes.c:20991:37: warning: function '__Pyx_PyInt_As_char' is not needed and will not be emitted [-Wunneeded-internal-declaration]\n",
      "          static CYTHON_INLINE char __Pyx_PyInt_As_char(PyObject *x) {\n",
      "                                    ^\n",
      "primes.c:21180:37: warning: function '__Pyx_PyInt_As_long' is not needed and will not be emitted [-Wunneeded-internal-declaration]\n",
      "          static CYTHON_INLINE long __Pyx_PyInt_As_long(PyObject *x) {\n",
      "                                    ^\n",
      "primes.c:3445:32: warning: unused function '__pyx_f_5numpy_PyArray_MultiIterNew1' [-Wunused-function]\n",
      "static CYTHON_INLINE PyObject *__pyx_f_5numpy_PyArray_MultiIterNew1(PyObject *__pyx_v_a) {\n",
      "                               ^\n",
      "primes.c:3492:32: warning: unused function '__pyx_f_5numpy_PyArray_MultiIterNew2' [-Wunused-function]\n",
      "static CYTHON_INLINE PyObject *__pyx_f_5numpy_PyArray_MultiIterNew2(PyObject *__pyx_v_a, PyObject *__pyx_v_b) {\n",
      "                               ^\n",
      "primes.c:3539:32: warning: unused function '__pyx_f_5numpy_PyArray_MultiIterNew3' [-Wunused-function]\n",
      "static CYTHON_INLINE PyObject *__pyx_f_5numpy_PyArray_MultiIterNew3(PyObject *__pyx_v_a, PyObject *__pyx_v_b, PyObject *__pyx_v_c) {\n",
      "                               ^\n",
      "primes.c:3586:32: warning: unused function '__pyx_f_5numpy_PyArray_MultiIterNew4' [-Wunused-function]\n",
      "static CYTHON_INLINE PyObject *__pyx_f_5numpy_PyArray_MultiIterNew4(PyObject *__pyx_v_a, PyObject *__pyx_v_b, PyObject *__pyx_v_c, PyObject *__pyx_v_d) {\n",
      "                               ^\n",
      "primes.c:3633:32: warning: unused function '__pyx_f_5numpy_PyArray_MultiIterNew5' [-Wunused-function]\n",
      "static CYTHON_INLINE PyObject *__pyx_f_5numpy_PyArray_MultiIterNew5(PyObject *__pyx_v_a, PyObject *__pyx_v_b, PyObject *__pyx_v_c, PyObject *__pyx_v_d, PyObject *__pyx_v_e) {\n",
      "                               ^\n",
      "primes.c:4435:27: warning: unused function '__pyx_f_5numpy_set_array_base' [-Wunused-function]\n",
      "static CYTHON_INLINE void __pyx_f_5numpy_set_array_base(PyArrayObject *__pyx_v_arr, PyObject *__pyx_v_base) {\n",
      "                          ^\n",
      "primes.c:4531:32: warning: unused function '__pyx_f_5numpy_get_array_base' [-Wunused-function]\n",
      "static CYTHON_INLINE PyObject *__pyx_f_5numpy_get_array_base(PyArrayObject *__pyx_v_arr) {\n",
      "                               ^\n",
      "primes.c:4605:26: warning: unused function '__pyx_f_5numpy_import_array' [-Wunused-function]\n",
      "static CYTHON_INLINE int __pyx_f_5numpy_import_array(void) {\n",
      "                         ^\n",
      "primes.c:4736:26: warning: unused function '__pyx_f_5numpy_import_umath' [-Wunused-function]\n",
      "static CYTHON_INLINE int __pyx_f_5numpy_import_umath(void) {\n",
      "                         ^\n",
      "primes.c:4867:26: warning: unused function '__pyx_f_5numpy_import_ufunc' [-Wunused-function]\n",
      "static CYTHON_INLINE int __pyx_f_5numpy_import_ufunc(void) {\n",
      "                         ^\n",
      "38 warnings generated.\n",
      "/Users/Olivier/anaconda3/lib/python3.5/site-packages/Cython/Distutils/old_build_ext.py:30: UserWarning: Cython.Distutils.old_build_ext does not properly handle dependencies and is deprecated.\n",
      "  \"Cython.Distutils.old_build_ext does not properly handle dependencies \"\n",
      "\n",
      "done\n",
      "if no error \"from cython_module import primes\"\n"
     ]
    }
   ],
   "source": [
    "run_setup(source='primes', verbose=True)"
   ]
  },
  {
   "cell_type": "code",
   "execution_count": 19,
   "metadata": {
    "collapsed": false
   },
   "outputs": [],
   "source": [
    "from cython_module import test\n",
    "from cython_module import primes\n"
   ]
  },
  {
   "cell_type": "code",
   "execution_count": 20,
   "metadata": {
    "collapsed": false
   },
   "outputs": [
    {
     "data": {
      "text/plain": [
       "98.44948974278317"
      ]
     },
     "execution_count": 20,
     "metadata": {},
     "output_type": "execute_result"
    }
   ],
   "source": [
    "test.f_C(6)"
   ]
  },
  {
   "cell_type": "code",
   "execution_count": 21,
   "metadata": {
    "collapsed": false
   },
   "outputs": [
    {
     "data": {
      "text/plain": [
       "array([ 2,  3,  5,  7, 11, 13, 17, 19, 23, 29, 31, 37, 41, 43, 47, 53, 59,\n",
       "       61, 67, 71, 73, 79, 83, 89, 97], dtype=int32)"
      ]
     },
     "execution_count": 21,
     "metadata": {},
     "output_type": "execute_result"
    }
   ],
   "source": [
    "np.asarray(primes.list_primes_C(int(1e2)))"
   ]
  },
  {
   "cell_type": "code",
   "execution_count": null,
   "metadata": {
    "collapsed": true
   },
   "outputs": [],
   "source": []
  }
 ],
 "metadata": {
  "kernelspec": {
   "display_name": "Python 3",
   "language": "python",
   "name": "python3"
  },
  "language_info": {
   "codemirror_mode": {
    "name": "ipython",
    "version": 3
   },
   "file_extension": ".py",
   "mimetype": "text/x-python",
   "name": "python",
   "nbconvert_exporter": "python",
   "pygments_lexer": "ipython3",
   "version": "3.5.2"
  }
 },
 "nbformat": 4,
 "nbformat_minor": 1
}
